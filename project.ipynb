{
 "cells": [
  {
   "cell_type": "markdown",
   "metadata": {},
   "source": [
    "           CÀI ĐẶT MÔ HÌNH"
   ]
  },
  {
   "cell_type": "code",
   "execution_count": 1,
   "metadata": {},
   "outputs": [
    {
     "name": "stdout",
     "output_type": "stream",
     "text": [
      "importing Jupyter notebook from GRU.ipynb\n",
      "importing Jupyter notebook from emotion.ipynb\n"
     ]
    },
    {
     "name": "stderr",
     "output_type": "stream",
     "text": [
      "[nltk_data] Downloading package punkt to\n",
      "[nltk_data]     C:\\Users\\DELL\\AppData\\Roaming\\nltk_data...\n",
      "[nltk_data]   Package punkt is already up-to-date!\n",
      "[nltk_data] Downloading package stopwords to\n",
      "[nltk_data]     C:\\Users\\DELL\\AppData\\Roaming\\nltk_data...\n",
      "[nltk_data]   Package stopwords is already up-to-date!\n"
     ]
    },
    {
     "name": "stdout",
     "output_type": "stream",
     "text": [
      "Shape of TF-IDF matrix: (8, 60)\n",
      "[7 0 4 6 2 3 1 5]\n",
      "Epoch 1/10\n"
     ]
    },
    {
     "name": "stderr",
     "output_type": "stream",
     "text": [
      "C:\\Users\\DELL\\AppData\\Local\\Packages\\PythonSoftwareFoundation.Python.3.10_qbz5n2kfra8p0\\LocalCache\\local-packages\\Python310\\site-packages\\keras\\src\\layers\\rnn\\rnn.py:204: UserWarning: Do not pass an `input_shape`/`input_dim` argument to a layer. When using Sequential models, prefer using an `Input(shape)` object as the first layer in the model instead.\n",
      "  super().__init__(**kwargs)\n"
     ]
    },
    {
     "name": "stdout",
     "output_type": "stream",
     "text": [
      "\u001b[1m8/8\u001b[0m \u001b[32m━━━━━━━━━━━━━━━━━━━━\u001b[0m\u001b[37m\u001b[0m \u001b[1m2s\u001b[0m 7ms/step - accuracy: 0.2614 - loss: 2.0647    \n",
      "Epoch 2/10\n",
      "\u001b[1m8/8\u001b[0m \u001b[32m━━━━━━━━━━━━━━━━━━━━\u001b[0m\u001b[37m\u001b[0m \u001b[1m0s\u001b[0m 4ms/step - accuracy: 0.2180 - loss: 2.0088     \n",
      "Epoch 3/10\n",
      "\u001b[1m8/8\u001b[0m \u001b[32m━━━━━━━━━━━━━━━━━━━━\u001b[0m\u001b[37m\u001b[0m \u001b[1m0s\u001b[0m 9ms/step - accuracy: 0.3302 - loss: 2.0585   \n",
      "Epoch 4/10\n",
      "\u001b[1m8/8\u001b[0m \u001b[32m━━━━━━━━━━━━━━━━━━━━\u001b[0m\u001b[37m\u001b[0m \u001b[1m0s\u001b[0m 2ms/step - accuracy: 0.3672 - loss: 1.9412     \n",
      "Epoch 5/10\n",
      "\u001b[1m8/8\u001b[0m \u001b[32m━━━━━━━━━━━━━━━━━━━━\u001b[0m\u001b[37m\u001b[0m \u001b[1m0s\u001b[0m 3ms/step - accuracy: 0.7450 - loss: 1.7539 \n",
      "Epoch 6/10\n",
      "\u001b[1m8/8\u001b[0m \u001b[32m━━━━━━━━━━━━━━━━━━━━\u001b[0m\u001b[37m\u001b[0m \u001b[1m0s\u001b[0m 8ms/step - accuracy: 0.6460 - loss: 1.7655\n",
      "Epoch 7/10\n",
      "\u001b[1m8/8\u001b[0m \u001b[32m━━━━━━━━━━━━━━━━━━━━\u001b[0m\u001b[37m\u001b[0m \u001b[1m0s\u001b[0m 7ms/step - accuracy: 0.9722 - loss: 1.6032  \n",
      "Epoch 8/10\n",
      "\u001b[1m8/8\u001b[0m \u001b[32m━━━━━━━━━━━━━━━━━━━━\u001b[0m\u001b[37m\u001b[0m \u001b[1m0s\u001b[0m 2ms/step - accuracy: 0.7952 - loss: 1.5934 \n",
      "Epoch 9/10\n",
      "\u001b[1m8/8\u001b[0m \u001b[32m━━━━━━━━━━━━━━━━━━━━\u001b[0m\u001b[37m\u001b[0m \u001b[1m0s\u001b[0m 5ms/step - accuracy: 1.0000 - loss: 1.5816 \n",
      "Epoch 10/10\n",
      "\u001b[1m8/8\u001b[0m \u001b[32m━━━━━━━━━━━━━━━━━━━━\u001b[0m\u001b[37m\u001b[0m \u001b[1m0s\u001b[0m 2ms/step - accuracy: 1.0000 - loss: 1.4559  \n",
      "\u001b[1m1/1\u001b[0m \u001b[32m━━━━━━━━━━━━━━━━━━━━\u001b[0m\u001b[37m\u001b[0m \u001b[1m0s\u001b[0m 265ms/step\n",
      "[[0.11135847 0.11082686 0.1202767  0.12267283 0.1624643  0.11777066\n",
      "  0.12981622 0.12481394]\n",
      " [0.09960098 0.16263838 0.1458136  0.13382126 0.09876098 0.11016382\n",
      "  0.13813709 0.11106388]\n",
      " [0.11643946 0.1328454  0.13744812 0.13631842 0.0954438  0.12821293\n",
      "  0.11698108 0.13631077]\n",
      " [0.11079307 0.1034035  0.0908706  0.18686761 0.10012183 0.12185882\n",
      "  0.1050892  0.18099535]\n",
      " [0.08999244 0.13829705 0.10694087 0.16530916 0.10422691 0.11938467\n",
      "  0.13605994 0.13978894]]\n",
      "\u001b[1m1/1\u001b[0m \u001b[32m━━━━━━━━━━━━━━━━━━━━\u001b[0m\u001b[37m\u001b[0m \u001b[1m0s\u001b[0m 362ms/step - accuracy: 1.0000 - loss: 1.3905\n",
      "Loss: 1.3904733657836914\n",
      "Accuracy: 1.0\n",
      "importing Jupyter notebook from Cleanes_data.ipynb\n"
     ]
    },
    {
     "name": "stderr",
     "output_type": "stream",
     "text": [
      "<string>:1: DtypeWarning: Columns (10) have mixed types. Specify dtype option on import or set low_memory=False.\n"
     ]
    },
    {
     "name": "stdout",
     "output_type": "stream",
     "text": [
      "<class 'pandas.core.frame.DataFrame'>\n",
      "RangeIndex: 45466 entries, 0 to 45465\n",
      "Data columns (total 25 columns):\n",
      " #   Column                 Non-Null Count  Dtype  \n",
      "---  ------                 --------------  -----  \n",
      " 0   adult                  45466 non-null  object \n",
      " 1   belongs_to_collection  4494 non-null   object \n",
      " 2   budget                 45466 non-null  object \n",
      " 3   genres                 45466 non-null  object \n",
      " 4   homepage               7782 non-null   object \n",
      " 5   id                     45466 non-null  object \n",
      " 6   imdb_id                45449 non-null  object \n",
      " 7   original_language      45455 non-null  object \n",
      " 8   original_title         45466 non-null  object \n",
      " 9   overview               44512 non-null  object \n",
      " 10  popularity             45461 non-null  object \n",
      " 11  poster_path            45080 non-null  object \n",
      " 12  production_companies   45463 non-null  object \n",
      " 13  production_countries   45463 non-null  object \n",
      " 14  release_date           45379 non-null  object \n",
      " 15  revenue                45460 non-null  float64\n",
      " 16  runtime                45203 non-null  float64\n",
      " 17  spoken_languages       45460 non-null  object \n",
      " 18  status                 45379 non-null  object \n",
      " 19  tagline                20412 non-null  object \n",
      " 20  title                  45460 non-null  object \n",
      " 21  video                  45460 non-null  object \n",
      " 22  vote_average           45460 non-null  float64\n",
      " 23  vote_count             45460 non-null  float64\n",
      " 24  emotion                45466 non-null  object \n",
      "dtypes: float64(4), object(21)\n",
      "memory usage: 8.7+ MB\n"
     ]
    }
   ],
   "source": [
    "import import_ipynb\n",
    "import GRU\n",
    "import emotion\n",
    "import Cleanes_data\n",
    "from keras.models import load_model\n",
    "memotion_data = GRU.emotion_data\n",
    "movie_data= Cleanes_data.movie_data\n",
    "\n",
    "\n"
   ]
  },
  {
   "cell_type": "markdown",
   "metadata": {},
   "source": [
    "                       XÂY DỰNG CHATBOT"
   ]
  },
  {
   "cell_type": "code",
   "execution_count": 2,
   "metadata": {},
   "outputs": [],
   "source": [
    "import pandas as pd\n",
    "from sklearn.feature_extraction.text import TfidfVectorizer\n",
    "import numpy as np\n",
    "\n",
    "# Hàm để lấy danh sách phim gợi ý dựa trên cảm xúc dự đoán\n",
    "def get_recommended_movies(predicted_emotion):\n",
    "    # Load dữ liệu phim từ file CSV\n",
    "    movie_data = pd.read_csv('D:/Nguyễn Duy Hậu/project/cleaned_movie_data.csv')\n",
    "    \n",
    "    # Lọc và gợi ý các bộ phim dựa trên tâm trạng dự đoán\n",
    "    recommended_movies = movie_data[movie_data['emotion'] == predicted_emotion]['title'].tolist()\n",
    "    \n",
    "    return recommended_movies\n",
    "\n",
    "\n",
    "\n",
    "    "
   ]
  },
  {
   "cell_type": "code",
   "execution_count": 3,
   "metadata": {},
   "outputs": [
    {
     "name": "stdout",
     "output_type": "stream",
     "text": [
      "\u001b[1m1/1\u001b[0m \u001b[32m━━━━━━━━━━━━━━━━━━━━\u001b[0m\u001b[37m\u001b[0m \u001b[1m0s\u001b[0m 264ms/step\n",
      "0\n"
     ]
    }
   ],
   "source": [
    "from sklearn.feature_extraction.text import TfidfVectorizer\n",
    "from tensorflow.keras.preprocessing.sequence import pad_sequences\n",
    "import numpy as np\n",
    "import pandas as pd\n",
    "\n",
    "# Loại bỏ các giá trị np.nan từ corpus\n",
    "corpus = movie_data['overview'].dropna().tolist()\n",
    "\n",
    "# Huấn luyện TfidfVectorizer từ mô tả phim\n",
    "tfidf_vectorizer = TfidfVectorizer(max_features=1000)\n",
    "tfidf_matrix = tfidf_vectorizer.fit_transform(corpus)\n",
    "\n",
    "def prepare_input_data(user_response, tfidf_vectorizer, max_length):\n",
    "    # Chuyển đổi văn bản nhập vào thành ma trận TF-IDF\n",
    "    tfidf_response = tfidf_vectorizer.transform([user_response]).toarray()\n",
    "    \n",
    "    # Chuyển đổi ma trận TF-IDF thành định dạng phù hợp với mô hình GRU\n",
    "    padded_sequence = pad_sequences(tfidf_response, maxlen=max_length, padding='post')\n",
    "    \n",
    "    # Reshape để phù hợp với kích thước đầu vào của mô hình GRU\n",
    "    input_data = padded_sequence.reshape((1, 1, max_length))\n",
    "    \n",
    "    return input_data\n",
    "\n",
    "def predict_emotion(user_response, AI_model, tfidf_vectorizer, max_length):\n",
    "    # Chuẩn bị dữ liệu đầu vào\n",
    "    input_data = prepare_input_data(user_response, tfidf_vectorizer, max_length)\n",
    "    \n",
    "    # Dự đoán cảm xúc từ dữ liệu đầu vào\n",
    "    predicted_label = AI_model.predict(input_data)\n",
    "    \n",
    "    # Trả về nhãn cảm xúc dự đoán\n",
    "    return np.argmax(predicted_label, axis=1)[0]\n",
    "\n",
    "\n",
    "def chatbot():\n",
    "    # Đọc mô hình GRU đã được huấn luyện từ file\n",
    "    AI_model = load_model('Movie_AI.keras')\n",
    "    \n",
    "    # Chờ người dùng nhập câu trả lời\n",
    "    user_response = input(\"Ngày hôm nay bạn cảm thấy thế nào? \")\n",
    "    \n",
    "    # Dự đoán cảm xúc từ câu trả lời của người dùng\n",
    "    max_length = 60\n",
    "    predicted_emotion = predict_emotion(user_response, AI_model, tfidf_vectorizer,max_length)\n",
    "    print(predicted_emotion)\n",
    "    \n",
    "    # Lọc và gợi ý các bộ phim dựa trên cảm xúc dự đoán\n",
    "    #recommended_movies = get_recommended_movies(predicted_emotion)\n",
    "    \n",
    "    # Hiển thị gợi ý phim cho người dùng\n",
    "    #for movie in recommended_movies:\n",
    "        #print(movie)\n",
    "\n",
    "# Chạy chatbot\n",
    "chatbot()\n"
   ]
  }
 ],
 "metadata": {
  "kernelspec": {
   "display_name": "Python 3",
   "language": "python",
   "name": "python3"
  },
  "language_info": {
   "codemirror_mode": {
    "name": "ipython",
    "version": 3
   },
   "file_extension": ".py",
   "mimetype": "text/x-python",
   "name": "python",
   "nbconvert_exporter": "python",
   "pygments_lexer": "ipython3",
   "version": "3.10.11"
  }
 },
 "nbformat": 4,
 "nbformat_minor": 2
}
