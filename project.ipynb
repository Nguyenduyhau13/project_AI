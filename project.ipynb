{
 "cells": [
  {
   "cell_type": "markdown",
   "metadata": {},
   "source": [
    "           CÀI ĐẶT MÔ HÌNH"
   ]
  },
  {
   "cell_type": "code",
   "execution_count": 6,
   "metadata": {},
   "outputs": [],
   "source": [
    "import import_ipynb\n",
    "import GRU\n",
    "import emotion\n",
    "import Cleanes_data\n",
    "from keras.models import load_model\n",
    "memotion_data = GRU.emotion_data\n",
    "movie_data= Cleanes_data.movie_data\n",
    "\n",
    "\n"
   ]
  },
  {
   "cell_type": "markdown",
   "metadata": {},
   "source": [
    "                       XÂY DỰNG CHATBOT"
   ]
  },
  {
   "cell_type": "code",
   "execution_count": 7,
   "metadata": {},
   "outputs": [],
   "source": [
    "import pandas as pd\n",
    "from sklearn.feature_extraction.text import TfidfVectorizer\n",
    "import numpy as np\n",
    "\n",
    "# Hàm để lấy danh sách phim gợi ý dựa trên cảm xúc dự đoán\n",
    "def get_recommended_movies(predicted_emotion):\n",
    "    # Load dữ liệu phim từ file CSV\n",
    "    movie_data = pd.read_csv('D:/Nguyễn Duy Hậu/project/cleaned_movie_data.csv')\n",
    "    \n",
    "    # Lọc và gợi ý các bộ phim dựa trên tâm trạng dự đoán\n",
    "    recommended_movies = movie_data[movie_data['emotion'] == predicted_emotion]['title'].tolist()\n",
    "    \n",
    "    return recommended_movies\n",
    "\n",
    "\n",
    "\n",
    "    "
   ]
  },
  {
   "cell_type": "code",
   "execution_count": 13,
   "metadata": {},
   "outputs": [
    {
     "name": "stdout",
     "output_type": "stream",
     "text": [
      "\u001b[1m1/1\u001b[0m \u001b[32m━━━━━━━━━━━━━━━━━━━━\u001b[0m\u001b[37m\u001b[0m \u001b[1m0s\u001b[0m 251ms/step\n",
      "7\n"
     ]
    }
   ],
   "source": [
    "from sklearn.feature_extraction.text import TfidfVectorizer\n",
    "from tensorflow.keras.preprocessing.sequence import pad_sequences\n",
    "import numpy as np\n",
    "import pandas as pd\n",
    "\n",
    "# Loại bỏ các giá trị np.nan từ corpus\n",
    "corpus = movie_data['overview'].dropna().tolist()\n",
    "\n",
    "# Huấn luyện TfidfVectorizer từ mô tả phim\n",
    "tfidf_vectorizer = TfidfVectorizer(max_features=1000)\n",
    "tfidf_matrix = tfidf_vectorizer.fit_transform(corpus)\n",
    "\n",
    "def prepare_input_data(user_response, tfidf_vectorizer, max_length):\n",
    "    # Chuyển đổi văn bản nhập vào thành ma trận TF-IDF\n",
    "    tfidf_response = tfidf_vectorizer.transform([user_response]).toarray()\n",
    "    \n",
    "    # Chuyển đổi ma trận TF-IDF thành định dạng phù hợp với mô hình GRU\n",
    "    padded_sequence = pad_sequences(tfidf_response, maxlen=max_length, padding='post')\n",
    "    \n",
    "    # Reshape để phù hợp với kích thước đầu vào của mô hình GRU\n",
    "    input_data = padded_sequence.reshape((1, 1, max_length))\n",
    "    \n",
    "    return input_data\n",
    "\n",
    "def predict_emotion(user_response, AI_model, tfidf_vectorizer, max_length):\n",
    "    # Chuẩn bị dữ liệu đầu vào\n",
    "    input_data = prepare_input_data(user_response, tfidf_vectorizer, max_length)\n",
    "    \n",
    "    # Dự đoán cảm xúc từ dữ liệu đầu vào\n",
    "    predicted_label = AI_model.predict(input_data)\n",
    "    \n",
    "    # Trả về nhãn cảm xúc dự đoán\n",
    "    return np.argmax(predicted_label, axis=1)[0]\n",
    "\n",
    "\n",
    "def chatbot():\n",
    "    # Đọc mô hình GRU đã được huấn luyện từ file\n",
    "    AI_model = load_model('Movie_AI.keras')\n",
    "    \n",
    "    # Chờ người dùng nhập câu trả lời\n",
    "    user_response = input(\"Ngày hôm nay bạn cảm thấy thế nào? \")\n",
    "    \n",
    "    # Dự đoán cảm xúc từ câu trả lời của người dùng\n",
    "    max_length = 60\n",
    "    predicted_emotion = predict_emotion(user_response, AI_model, tfidf_vectorizer,max_length)\n",
    "    print(predicted_emotion)\n",
    "    \n",
    "    # Lọc và gợi ý các bộ phim dựa trên cảm xúc dự đoán\n",
    "    #recommended_movies = get_recommended_movies(predicted_emotion)\n",
    "    \n",
    "    # Hiển thị gợi ý phim cho người dùng\n",
    "    #for movie in recommended_movies:\n",
    "        #print(movie)\n",
    "\n",
    "# Chạy chatbot\n",
    "chatbot()\n"
   ]
  }
 ],
 "metadata": {
  "kernelspec": {
   "display_name": "Python 3",
   "language": "python",
   "name": "python3"
  },
  "language_info": {
   "codemirror_mode": {
    "name": "ipython",
    "version": 3
   },
   "file_extension": ".py",
   "mimetype": "text/x-python",
   "name": "python",
   "nbconvert_exporter": "python",
   "pygments_lexer": "ipython3",
   "version": "3.10.11"
  }
 },
 "nbformat": 4,
 "nbformat_minor": 2
}
