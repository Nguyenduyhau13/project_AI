{
 "cells": [
  {
   "cell_type": "code",
   "execution_count": 1,
   "metadata": {},
   "outputs": [],
   "source": [
    "import pandas as pd\n",
    "data = {\n",
    "    'text': [\n",
    "        [\"Hôm nay là một ngày tuyệt vời!\",\"Thời tiết đẹp như thế này khiến tôi cảm thấy rất tươi vui\",\"Tôi cảm thấy thật sự hạnh phúc khi được ở bên người thân\"],\n",
    "        [\"Tôi cảm thấy lạc lõng và buồn bã hôm nay.\"],\n",
    "        [\"Tôi rất háo hức với kế hoạch du lịch của mình.\"],\n",
    "        [\"Tôi cảm thấy mệt mỏi\"],\n",
    "        [\"Tôi cảm thấy thật cô đơn\"],\n",
    "        [\"Tôi cảm thấy rất bực mình\"],\n",
    "        [\"Tôi chán quá\"],\n",
    "        [\"Tôi lo lắng về tương lai của mình và không biết sẽ đi đâu\"],\n",
    "    \n",
    "        \n",
    "\n",
    "    ],\n",
    "    'emotion': [\n",
    "        'Vui',\n",
    "        'Buồn',\n",
    "        'Hứng khởi',\n",
    "        'Mệt mỏi',\n",
    "        'Cô đơn',\n",
    "        'Giận dữ',\n",
    "        'Chán nản',\n",
    "        'Lo lắng',\n",
    "        \n",
    "        \n",
    "    ]\n",
    "}\n",
    "emotion_data= pd.DataFrame(data)\n",
    "emotion_data.to_csv('emotion_data.csv', index=False)\n"
   ]
  },
  {
   "cell_type": "code",
   "execution_count": 2,
   "metadata": {},
   "outputs": [],
   "source": [
    "emotion_data= pd.read_csv(\"D:/Nguyễn Duy Hậu/project/emotion_data.csv\")"
   ]
  },
  {
   "cell_type": "code",
   "execution_count": 3,
   "metadata": {},
   "outputs": [
    {
     "name": "stderr",
     "output_type": "stream",
     "text": [
      "[nltk_data] Downloading package punkt to\n",
      "[nltk_data]     C:\\Users\\DELL\\AppData\\Roaming\\nltk_data...\n",
      "[nltk_data]   Package punkt is already up-to-date!\n",
      "[nltk_data] Downloading package stopwords to\n",
      "[nltk_data]     C:\\Users\\DELL\\AppData\\Roaming\\nltk_data...\n",
      "[nltk_data]   Package stopwords is already up-to-date!\n"
     ]
    }
   ],
   "source": [
    "import nltk\n",
    "from nltk.corpus import stopwords\n",
    "from nltk.tokenize import word_tokenize\n",
    "from nltk.stem import PorterStemmer\n",
    "import re\n",
    "\n",
    "nltk.download('punkt')\n",
    "nltk.download('stopwords')\n",
    "\n",
    "def clean_text(text):\n",
    "    # Chuyển đổi văn bản thành chữ thường\n",
    "    #text = text.lower()\n",
    "    \n",
    "    # Loại bỏ dấu câu và ký tự đặc biệt\n",
    "    text = re.sub(r'[^\\w\\s]', '', text)\n",
    "    \n",
    "    # Tách từ\n",
    "    tokens = word_tokenize(text)\n",
    "    \n",
    "    # Loại bỏ stopwords\n",
    "    stop_words = set(stopwords.words('english'))\n",
    "    tokens = [word for word in tokens if word not in stop_words]\n",
    "    \n",
    "    # Chuẩn hóa từ\n",
    "    stemmer = PorterStemmer()\n",
    "    tokens = [stemmer.stem(word) for word in tokens]\n",
    "    \n",
    "    # Kết hợp các từ thành văn bản mới\n",
    "    preprocessed_text = ' '.join(tokens)\n",
    "    \n",
    "    return preprocessed_text\n"
   ]
  },
  {
   "cell_type": "markdown",
   "metadata": {},
   "source": [
    "                      Tiền xử lí dữ liệu"
   ]
  },
  {
   "cell_type": "code",
   "execution_count": 4,
   "metadata": {},
   "outputs": [],
   "source": [
    "emotion_data['text'] = emotion_data['text'].apply(clean_text)"
   ]
  },
  {
   "cell_type": "markdown",
   "metadata": {},
   "source": [
    "           Chuẩn hóa dữ liệu"
   ]
  },
  {
   "cell_type": "code",
   "execution_count": 5,
   "metadata": {},
   "outputs": [
    {
     "name": "stdout",
     "output_type": "stream",
     "text": [
      "Shape of TF-IDF matrix: (8, 60)\n"
     ]
    }
   ],
   "source": [
    "from sklearn.feature_extraction.text import TfidfVectorizer\n",
    "\n",
    "# Tạo một đối tượng TF-IDF\n",
    "tfidf_vectorizer = TfidfVectorizer(max_features=1000)  # Số lượng từ vựng tối đa: 1000\n",
    "\n",
    "# Fit và chuyển đổi dữ liệu văn bản thành ma trận TF-IDF\n",
    "tfidf_features = tfidf_vectorizer.fit_transform(emotion_data['text'])\n",
    "\n",
    "# In ra kích thước của ma trận đặc trưng\n",
    "print(\"Shape of TF-IDF matrix:\", tfidf_features.shape)\n"
   ]
  },
  {
   "cell_type": "code",
   "execution_count": 6,
   "metadata": {},
   "outputs": [
    {
     "name": "stdout",
     "output_type": "stream",
     "text": [
      "[7 0 4 6 2 3 1 5]\n"
     ]
    }
   ],
   "source": [
    "from sklearn.preprocessing import LabelEncoder\n",
    "\n",
    "# Khởi tạo đối tượng LabelEncoder\n",
    "label_encoder = LabelEncoder()\n",
    "\n",
    "# Fit và transform dữ liệu nhãn\n",
    "encoded_labels = label_encoder.fit_transform(emotion_data['emotion'])\n",
    "\n",
    "# Hiển thị dữ liệu đã được mã hóa\n",
    "print(encoded_labels)\n"
   ]
  }
 ],
 "metadata": {
  "kernelspec": {
   "display_name": "Python 3",
   "language": "python",
   "name": "python3"
  },
  "language_info": {
   "codemirror_mode": {
    "name": "ipython",
    "version": 3
   },
   "file_extension": ".py",
   "mimetype": "text/x-python",
   "name": "python",
   "nbconvert_exporter": "python",
   "pygments_lexer": "ipython3",
   "version": "3.10.11"
  }
 },
 "nbformat": 4,
 "nbformat_minor": 2
}
